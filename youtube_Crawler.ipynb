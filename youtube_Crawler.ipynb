{
 "cells": [
  {
   "cell_type": "markdown",
   "id": "0fb10734-cb4e-416b-bd63-a42e2719a154",
   "metadata": {},
   "source": [
    "#### Import Library & Load webdriver"
   ]
  },
  {
   "cell_type": "code",
   "execution_count": 3,
   "id": "ba16d716-5fa7-4492-986f-5057068389a3",
   "metadata": {},
   "outputs": [
    {
     "name": "stderr",
     "output_type": "stream",
     "text": [
      "C:\\Users\\SOONKI~1\\AppData\\Local\\Temp/ipykernel_14096/1149647549.py:11: DeprecationWarning: executable_path has been deprecated, please pass in a Service object\n",
      "  driver = webdriver.Edge('msedgedriver.exe') # webdriver.Chrome('chromedriver.exe')\n"
     ]
    }
   ],
   "source": [
    "from selenium import webdriver\n",
    "import time\n",
    "from openpyxl import Workbook\n",
    "import pandas as pd\n",
    "from selenium.webdriver.common.keys import Keys\n",
    "from bs4 import BeautifulSoup\n",
    "\n",
    "wb = Workbook(write_only=True)\n",
    "ws = wb.create_sheet()\n",
    "\n",
    "driver = webdriver.Edge('msedgedriver.exe') # webdriver.Chrome('chromedriver.exe')\n",
    "driver.get(\"https://www.youtube.com/watch?v=_MYR9Dp8Eys\")\n",
    "driver.implicitly_wait(3)\n",
    "\n",
    "time.sleep(1.5)\n",
    "\n",
    "driver.execute_script(\"window.scrollTo(0, 800)\")\n",
    "time.sleep(3)"
   ]
  },
  {
   "cell_type": "markdown",
   "id": "01def3f7-10b2-406b-be73-e3fafa8a4492",
   "metadata": {},
   "source": [
    "#### 페이지 끝까지 스크롤 및 팝업 닫기"
   ]
  },
  {
   "cell_type": "code",
   "execution_count": 4,
   "id": "cb31e1ed-e578-4866-b8e4-5f2c75a8730a",
   "metadata": {},
   "outputs": [
    {
     "name": "stderr",
     "output_type": "stream",
     "text": [
      "C:\\Users\\SOONKI~1\\AppData\\Local\\Temp/ipykernel_14096/3842540066.py:15: DeprecationWarning: find_element_by_* commands are deprecated. Please use find_element() instead\n",
      "  driver.find_element_by_css_selector(\"#dismiss-button > a\").click()\n"
     ]
    }
   ],
   "source": [
    "last_height = driver.execute_script(\"return document.documentElement.scrollHeight\")\n",
    "\n",
    "while True:\n",
    "    driver.execute_script(\"window.scrollTo(0, document.documentElement.scrollHeight);\")\n",
    "    time.sleep(5)\n",
    "\n",
    "    new_height = driver.execute_script(\"return document.documentElement.scrollHeight\")\n",
    "    if new_height == last_height:\n",
    "        break\n",
    "    last_height = new_height\n",
    "\n",
    "time.sleep(5)\n",
    "\n",
    "try:\n",
    "    driver.find_element_by_css_selector(\"#dismiss-button > a\").click()\n",
    "except:\n",
    "    pass"
   ]
  },
  {
   "cell_type": "markdown",
   "id": "019c1f90-8fe5-4a8e-b4ee-3e49fe9cd682",
   "metadata": {},
   "source": [
    "#### 댓글 정보 추출 맻 csv로 저장"
   ]
  },
  {
   "cell_type": "code",
   "execution_count": 5,
   "id": "52750c80-cf5d-468a-a67f-93e2fc27bec1",
   "metadata": {},
   "outputs": [],
   "source": [
    "html_source = driver.page_source\n",
    "soup = BeautifulSoup(html_source, 'html.parser')\n",
    "\n",
    "id_list = soup.select(\"div#header-author > h3 > #author-text > span\")\n",
    "comment_list = soup.select(\"yt-formatted-string#content-text\")\n",
    "\n",
    "id_final = []\n",
    "comment_final = []\n",
    "\n",
    "for i in range(len(comment_list)):\n",
    "    temp_id = id_list[i].text\n",
    "    temp_id = temp_id.replace('\\n', '')\n",
    "    temp_id = temp_id.replace('\\t', '')\n",
    "    temp_id = temp_id.replace('    ', '')\n",
    "    id_final.append(temp_id)\n",
    "\n",
    "    temp_comment = comment_list[i].text\n",
    "    temp_comment = temp_comment.replace('\\n', '')\n",
    "    temp_comment = temp_comment.replace('\\t', '')\n",
    "    temp_comment = temp_comment.replace('    ', '')\n",
    "    comment_final.append(temp_comment)\n",
    "\n",
    "pd_data = {\"아이디\" : id_final , \"댓글 내용\" : comment_final}\n",
    "youtube_pd = pd.DataFrame(pd_data)\n",
    "# convert_csv_from_dataframe('title',youtube_pd)\n",
    "# youtube_pd.to_excel('youtube.xlsx',encoding = 'cp949')\n",
    "youtube_pd.to_csv(f\"./data/youtube_pd_title_5.csv\", encoding='utf-8-sig')\n",
    "driver.close()"
   ]
  },
  {
   "cell_type": "code",
   "execution_count": 6,
   "id": "80891e57-6a9c-4d6a-a5f4-bee694db9e18",
   "metadata": {},
   "outputs": [
    {
     "data": {
      "text/html": [
       "<div>\n",
       "<style scoped>\n",
       "    .dataframe tbody tr th:only-of-type {\n",
       "        vertical-align: middle;\n",
       "    }\n",
       "\n",
       "    .dataframe tbody tr th {\n",
       "        vertical-align: top;\n",
       "    }\n",
       "\n",
       "    .dataframe thead th {\n",
       "        text-align: right;\n",
       "    }\n",
       "</style>\n",
       "<table border=\"1\" class=\"dataframe\">\n",
       "  <thead>\n",
       "    <tr style=\"text-align: right;\">\n",
       "      <th></th>\n",
       "      <th>아이디</th>\n",
       "      <th>댓글 내용</th>\n",
       "    </tr>\n",
       "  </thead>\n",
       "  <tbody>\n",
       "    <tr>\n",
       "      <th>0</th>\n",
       "      <td>Luv IT ATO</td>\n",
       "      <td>본 영상은 LG전자로부터 소정의 제작비를 받고  제품을 대여받아 제작되었습니다. A...</td>\n",
       "    </tr>\n",
       "    <tr>\n",
       "      <th>1</th>\n",
       "      <td>유시연</td>\n",
       "      <td>옵티컬이랑 usb모드 나뉘는게 좋아보이네요. 데탑 콘솔 같이 쓰는 입장에서 둘다연결...</td>\n",
       "    </tr>\n",
       "    <tr>\n",
       "      <th>2</th>\n",
       "      <td>Awesome Jang</td>\n",
       "      <td>가격만 아니면 한번 써보고싶은 제품인데ㅋㅋ... 가격이 후덜덜한게 참 아쉽습니다. ...</td>\n",
       "    </tr>\n",
       "    <tr>\n",
       "      <th>3</th>\n",
       "      <td>Azbel Rex</td>\n",
       "      <td>제가 예전에 AAA급 게임들에 어울리는 스피커를 리뷰해달라고 했는데 해주셨군요!!!...</td>\n",
       "    </tr>\n",
       "    <tr>\n",
       "      <th>4</th>\n",
       "      <td>렘푸</td>\n",
       "      <td>내장배터리 모델이라면 usb-c충전으로 변경되었으면 편의성이 더 좋았을텐데</td>\n",
       "    </tr>\n",
       "    <tr>\n",
       "      <th>...</th>\n",
       "      <td>...</td>\n",
       "      <td>...</td>\n",
       "    </tr>\n",
       "    <tr>\n",
       "      <th>86</th>\n",
       "      <td>원주민</td>\n",
       "      <td>개비싸네</td>\n",
       "    </tr>\n",
       "    <tr>\n",
       "      <th>87</th>\n",
       "      <td>가재는게편</td>\n",
       "      <td>6:01 응?</td>\n",
       "    </tr>\n",
       "    <tr>\n",
       "      <th>88</th>\n",
       "      <td>m m</td>\n",
       "      <td>안삽니다.</td>\n",
       "    </tr>\n",
       "    <tr>\n",
       "      <th>89</th>\n",
       "      <td>김메타</td>\n",
       "      <td>지르...까..?</td>\n",
       "    </tr>\n",
       "    <tr>\n",
       "      <th>90</th>\n",
       "      <td>HeiZy</td>\n",
       "      <td>6:00 에 빨간옷 적....</td>\n",
       "    </tr>\n",
       "  </tbody>\n",
       "</table>\n",
       "<p>91 rows × 2 columns</p>\n",
       "</div>"
      ],
      "text/plain": [
       "               아이디                                              댓글 내용\n",
       "0       Luv IT ATO  본 영상은 LG전자로부터 소정의 제작비를 받고  제품을 대여받아 제작되었습니다. A...\n",
       "1              유시연  옵티컬이랑 usb모드 나뉘는게 좋아보이네요. 데탑 콘솔 같이 쓰는 입장에서 둘다연결...\n",
       "2     Awesome Jang  가격만 아니면 한번 써보고싶은 제품인데ㅋㅋ... 가격이 후덜덜한게 참 아쉽습니다. ...\n",
       "3        Azbel Rex  제가 예전에 AAA급 게임들에 어울리는 스피커를 리뷰해달라고 했는데 해주셨군요!!!...\n",
       "4               렘푸          내장배터리 모델이라면 usb-c충전으로 변경되었으면 편의성이 더 좋았을텐데\n",
       "..             ...                                                ...\n",
       "86             원주민                                               개비싸네\n",
       "87           가재는게편                                            6:01 응?\n",
       "88             m m                                              안삽니다.\n",
       "89             김메타                                          지르...까..?\n",
       "90           HeiZy                                   6:00 에 빨간옷 적....\n",
       "\n",
       "[91 rows x 2 columns]"
      ]
     },
     "execution_count": 6,
     "metadata": {},
     "output_type": "execute_result"
    }
   ],
   "source": [
    "youtube_pd"
   ]
  }
 ],
 "metadata": {
  "kernelspec": {
   "display_name": "Python 3 (ipykernel)",
   "language": "python",
   "name": "python3"
  },
  "language_info": {
   "codemirror_mode": {
    "name": "ipython",
    "version": 3
   },
   "file_extension": ".py",
   "mimetype": "text/x-python",
   "name": "python",
   "nbconvert_exporter": "python",
   "pygments_lexer": "ipython3",
   "version": "3.9.13"
  }
 },
 "nbformat": 4,
 "nbformat_minor": 5
}
